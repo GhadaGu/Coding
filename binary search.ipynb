{
 "cells": [
  {
   "cell_type": "code",
   "execution_count": 19,
   "id": "02f87170",
   "metadata": {},
   "outputs": [
    {
     "name": "stdout",
     "output_type": "stream",
     "text": [
      "Please enter the value7\n",
      "Value doesn't exist in the list!\n"
     ]
    }
   ],
   "source": [
    "#Use binary search to find if a specific value is in the list. \n",
    "def element_search(A, l, h, k):\n",
    "    if h >= l:\n",
    "        mid = int(l + (h - l)/2)\n",
    "        if A[mid] == k:\n",
    "            print(\"Value exists in the list!\")\n",
    "        elif A[mid] > k:\n",
    "            return element_search(A, l, mid-1, k)\n",
    "        else:\n",
    "            return element_search(A, mid+1, h, k)\n",
    "    else:\n",
    "        print(\"Value doesn't exist in the list!\")\n",
    "    \n",
    "\n",
    "A=[1,2,3,5,8]\n",
    "l=0\n",
    "h=len(A)-1;\n",
    "x=int(input(\"Please enter the value\"))\n",
    "element_search(A, l, h, x)"
   ]
  }
 ],
 "metadata": {
  "kernelspec": {
   "display_name": "Python 3 (ipykernel)",
   "language": "python",
   "name": "python3"
  },
  "language_info": {
   "codemirror_mode": {
    "name": "ipython",
    "version": 3
   },
   "file_extension": ".py",
   "mimetype": "text/x-python",
   "name": "python",
   "nbconvert_exporter": "python",
   "pygments_lexer": "ipython3",
   "version": "3.9.7"
  }
 },
 "nbformat": 4,
 "nbformat_minor": 5
}
