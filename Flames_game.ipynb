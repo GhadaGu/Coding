{
 "cells": [
  {
   "cell_type": "code",
   "execution_count": 7,
   "id": "ff7cd1a4",
   "metadata": {},
   "outputs": [
    {
     "name": "stdout",
     "output_type": "stream",
     "text": [
      "Please enter the first name: dd\n",
      "Please enter the second name: dd\n",
      "Relationship status : Friends\n"
     ]
    }
   ],
   "source": [
    "def Flames(name1, name2):\n",
    " \n",
    "    for i in range(len(name1)) :\n",
    "        for j in range(len(name2)) :\n",
    "            if name1[i] == name2[j] :\n",
    "                c = name1[i]\n",
    "                name1.remove(c)\n",
    "                name2.remove(c)\n",
    "                name3 = name1 + [\"*\"] + name2\n",
    "                return [name3, True]\n",
    "    name3 = name1 + [\"*\"] + name2\n",
    "    return [name3, False]\n",
    " \n",
    "# _______code\n",
    "if __name__ == \"__main__\" :\n",
    "    \n",
    "    # take first name   \n",
    "    p1 = input(\"Please enter the first name: \")\n",
    "    p1 = p1.lower()\n",
    "    p1.replace(\" \", \"\")\n",
    "    p1_name = list(p1)\n",
    " \n",
    "    # take second name\n",
    "    p2 = input(\"Please enter the second name: \")\n",
    "    p2 = p2.lower()\n",
    "    p2.replace(\" \", \"\")\n",
    "    p2_name = list(p2)\n",
    " \n",
    "    #flag \n",
    "    proceed = True\n",
    "    \n",
    "    while proceed :\n",
    "        ret_list =Flames(p1_name, p2_name)\n",
    "        con_list = ret_list[0]\n",
    "        proceed = ret_list[1]\n",
    "        star_index = con_list.index(\"*\")\n",
    "        p1_name = con_list[ : star_index]\n",
    "        p2_name= con_list[star_index + 1 : ]\n",
    " \n",
    "    count = len(p1_name)+len(p2_name)\n",
    "  \n",
    "    result = [\"Friends\", \"Love\", \"Affection\", \"Marriage\", \"Enemy\", \"Siblings\"]\n",
    "    while len(result) > 1 :\n",
    "        split_index = (count % len(result) - 1)\n",
    "        if split_index >= 0 :\n",
    "            right = result[split_index + 1 : ]\n",
    "            left = result[ : split_index]\n",
    "            result = right + left\n",
    "        else :\n",
    "            result = result[ : len(result) - 1]\n",
    "    print(\"Relationship status :\", result[0])"
   ]
  },
  {
   "cell_type": "code",
   "execution_count": null,
   "id": "3888ed97",
   "metadata": {},
   "outputs": [],
   "source": []
  }
 ],
 "metadata": {
  "kernelspec": {
   "display_name": "Python 3 (ipykernel)",
   "language": "python",
   "name": "python3"
  },
  "language_info": {
   "codemirror_mode": {
    "name": "ipython",
    "version": 3
   },
   "file_extension": ".py",
   "mimetype": "text/x-python",
   "name": "python",
   "nbconvert_exporter": "python",
   "pygments_lexer": "ipython3",
   "version": "3.9.7"
  }
 },
 "nbformat": 4,
 "nbformat_minor": 5
}
