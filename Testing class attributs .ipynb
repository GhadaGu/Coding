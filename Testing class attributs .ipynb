{
 "cells": [
  {
   "cell_type": "code",
   "execution_count": 2,
   "id": "ae3ca965",
   "metadata": {},
   "outputs": [
    {
     "name": "stdout",
     "output_type": "stream",
     "text": [
      "please enter the amount to deposit500\n",
      "Your new balance =  5500\n",
      "please enter the amount to withdraw555\n",
      "Your new balance =  4945\n"
     ]
    }
   ],
   "source": [
    "class bank: \n",
    "    def __init__(self,balance):\n",
    "        self.balance=balance\n",
    "    def deposit(self):\n",
    "        x=int(input(\"please enter the amount to deposit\"))\n",
    "        self.balance+=x\n",
    "        print(\"Your new balance = \", self.balance)\n",
    "    def withdraw (self):\n",
    "        y=int(input(\"please enter the amount to withdraw\"))\n",
    "        if y<= self.balance:\n",
    "            self.balance-=y\n",
    "            print(\"Your new balance = \",self.balance )\n",
    "        else:\n",
    "            print(\" Your balance is unsufficient \")\n",
    "Account=bank(5000)    \n",
    "Account.deposit()\n",
    "Account.withdraw()\n",
    "        "
   ]
  },
  {
   "cell_type": "code",
   "execution_count": null,
   "id": "23cacfae",
   "metadata": {},
   "outputs": [],
   "source": []
  }
 ],
 "metadata": {
  "kernelspec": {
   "display_name": "Python 3 (ipykernel)",
   "language": "python",
   "name": "python3"
  },
  "language_info": {
   "codemirror_mode": {
    "name": "ipython",
    "version": 3
   },
   "file_extension": ".py",
   "mimetype": "text/x-python",
   "name": "python",
   "nbconvert_exporter": "python",
   "pygments_lexer": "ipython3",
   "version": "3.9.7"
  }
 },
 "nbformat": 4,
 "nbformat_minor": 5
}
