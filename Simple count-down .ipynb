{
 "cells": [
  {
   "cell_type": "code",
   "execution_count": null,
   "id": "570a6512",
   "metadata": {},
   "outputs": [],
   "source": [
    "#Import the time module\n",
    "import time\n",
    "#Ask the user to input the length of the countdown in seconds.\n",
    "\n",
    "t=int(input(\"Please enter the length of the countdown in seconds \"))\n",
    "#countdown of function\n",
    "def countdown(t):\n",
    "    while t>0:\n",
    "        #calculate minutes and seconds \n",
    "        x=divmod(t,60)\n",
    "        #output in time format \n",
    "        timeformat=str(x[0])+':'+str(x[1])\n",
    "        print(timeformat,end = '\\r' )\n",
    "        #wait for a second\n",
    "        time.sleep(1)\n",
    "        #decrement time\n",
    "        t=t-1\n",
    "countdown(t)\n",
    "print(\"Fire in the hole\")"
   ]
  }
 ],
 "metadata": {
  "kernelspec": {
   "display_name": "Python 3 (ipykernel)",
   "language": "python",
   "name": "python3"
  },
  "language_info": {
   "codemirror_mode": {
    "name": "ipython",
    "version": 3
   },
   "file_extension": ".py",
   "mimetype": "text/x-python",
   "name": "python",
   "nbconvert_exporter": "python",
   "pygments_lexer": "ipython3",
   "version": "3.9.7"
  }
 },
 "nbformat": 4,
 "nbformat_minor": 5
}
